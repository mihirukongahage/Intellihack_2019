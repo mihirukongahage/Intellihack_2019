{
  "nbformat": 4,
  "nbformat_minor": 0,
  "metadata": {
    "colab": {
      "name": "intellihack_v1.ipynb",
      "provenance": [],
      "include_colab_link": true
    },
    "kernelspec": {
      "name": "python3",
      "display_name": "Python 3"
    },
    "accelerator": "TPU"
  },
  "cells": [
    {
      "cell_type": "markdown",
      "metadata": {
        "id": "view-in-github",
        "colab_type": "text"
      },
      "source": [
        "<a href=\"https://colab.research.google.com/github/mihirukongahage/Intellihack_2019/blob/master/intellihack_v1.ipynb\" target=\"_parent\"><img src=\"https://colab.research.google.com/assets/colab-badge.svg\" alt=\"Open In Colab\"/></a>"
      ]
    },
    {
      "cell_type": "code",
      "metadata": {
        "id": "iSOhTjBlu6wT",
        "colab_type": "code",
        "colab": {}
      },
      "source": [
        "from os import listdir\n",
        "from numpy import array\n",
        "import numpy as np"
      ],
      "execution_count": 0,
      "outputs": []
    },
    {
      "cell_type": "code",
      "metadata": {
        "id": "Fp6vIBRdgiYp",
        "colab_type": "code",
        "colab": {}
      },
      "source": [
        "images = []\n",
        "all_filenames = listdir('images/')\n",
        "all_filenames.sort()\n",
        "for filename in all_filenames:\n",
        "    images.append(img_to_array(load_img('images/'+filename, target_size=(299, 299))))\n",
        "images = np.array(images, dtype=float)"
      ],
      "execution_count": 0,
      "outputs": []
    }
  ]
}